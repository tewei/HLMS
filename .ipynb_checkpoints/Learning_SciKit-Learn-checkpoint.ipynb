{
 "cells": [
  {
   "cell_type": "code",
   "execution_count": null,
   "metadata": {
    "collapsed": true
   },
   "outputs": [],
   "source": [
    "from matplotlib import pyplot as plt \n",
    "%matplotlib inline\n",
    "import numpy as np "
   ]
  },
  {
   "cell_type": "code",
   "execution_count": null,
   "metadata": {
    "collapsed": false
   },
   "outputs": [],
   "source": [
    "import csv\n",
    "\n",
    "with open('training_descriptors/halflife_1D2Dfingerprint.csv', 'rb') as fx:\n",
    "    reader = csv.reader(fx)\n",
    "    raw_list = list(reader)\n",
    "\n",
    "def float_list(some_list):\n",
    "    return [float(i) for i in some_list]\n",
    "    \n",
    "data_X = raw_list[1:]\n",
    "data_X = np.asarray([float_list(i[1:]) for i in data_X])\n",
    "print data_X.shape\n",
    "    \n",
    "with open('training_csv/training_halflife.csv', 'rb') as fy:\n",
    "    reader = csv.reader(fy)\n",
    "    raw_list = list(reader)\n",
    "\n",
    "data_Y_reg = [i[10] for i in raw_list[1:]]\n",
    "\n",
    "\n",
    "def class_to_bool(st):\n",
    "    if(st == \"0\"):\n",
    "        return 0\n",
    "    elif(st == \"1\"):\n",
    "        return 1\n",
    "\n",
    "data_Y_cla = np.asarray([class_to_bool(i[10]) for i in raw_list[1:]])\n",
    "    \n",
    "    \n",
    "print data_Y_cla.shape"
   ]
  },
  {
   "cell_type": "code",
   "execution_count": 351,
   "metadata": {
    "collapsed": false
   },
   "outputs": [
    {
     "name": "stdout",
     "output_type": "stream",
     "text": [
      "[0 1 1 1 1 1 1 1 0 0 0 1 1 1 0 0 1 1 0 1 1 0 1 0 1 1 1 0 1 1 1 1 0 0 0 1 1\n",
      " 0 1 0 1 0 1 0 1 1 0 0 1 1 1 0 0 1 1 0 1 1 0 1 1 1 1 1 1 0 0 1 0 0 1 1 1 1\n",
      " 0 0 1 1 0 1 1 0 0 0 0 0 0 1 1 0 1 0 0 1 0 0 1 1 0 1 1 0 1 1 1 1 0 1 1 1 0\n",
      " 1 0 1 0 1 1 1 1 1 1 1 1 1 1 1 0 1 1 1 0 0 0 0 1 1 1 1 0 0 1 1 0 1 0 0 1 0\n",
      " 1 1 1 1 1 1 0 1 1 1 0 1 0 1 0 1 1 1 1 1 1 1 1 1 0 1 1 0 0 0 1 1 0 1 1 1 0\n",
      " 0 1 1 0 0 1 1 0 0 1 1 0 1 0 1 1 0 1 1 1 0 1 0 1 1 0 1 1 0 1 0 0 1 1 0 1 0\n",
      " 1 0 1 1 1 1 1 1 1 1 1 1 1 0 0 1 1 1 0 1 0 1 1 0 1 0 1 0 1 0 1 0 0 0 1 1 1\n",
      " 1 1 0 1 1 1 1 0 1 0 0 0 0 1 0 1 0 1 1 1 0 0 1 1 1 0 1 1 1 1 1 1 0 1 1 0 0\n",
      " 1 0 1 1 0 1 1 0 1 0 1 1 1 0 1 1 1 0 0 0 1 1 1 1 0 0 0 1 0 0 1 1 1 1 1 1 1\n",
      " 1 1 1 1 0 1 0 1 0 1 0 0 1 0 0 0 1 1 1 1 0 1 1 0 1 0 0 0 0 0 1 0 1 0 1 0 1\n",
      " 1 0 1 0 0 0 1 1 0 1 1 1 1 1 0 1 0 1 1 1 1 0 1 1 0 1 0 0 1 1 1 1 1 1 1 1 1\n",
      " 0 0 0 0 1 1 1 1 1 0 0 1 1 0 1 1 1 0 1 0 1 0 0 0 1 1 0 1 1 0 1 0 1 0 0 1 1\n",
      " 1 1 1 0 1 1 0 1 1 0 1 0 0 1 1 0 1 1 1 0 1 0 1 0 1 1 1 1 0 0 1 1 1 1 1 0 1\n",
      " 1 1 1 0 1 1 1 1 1 0 1 0 0 0 1 1 0 1 1 0 1 1 0 0 1 1 0 0 0 0 1 1 1 1 1 0 1\n",
      " 0 1 0 0 1 1 1 1 1 1 1 1 1 0 1 1 1 1 0 1 1 1 1 0 1 1 1 1 1 1 1 1 0 0 1 1 0\n",
      " 0 1 1 1 0 1 1 1 1 1 1 0 1 1 0 0 1 1 0 0 1 0 1 1 1 1 0 0 0 0 1 1 1 1 1 1 0\n",
      " 1 1 1 1 1 1 0 1 1 1 1 1 1 1 1 1 1 1 0 1 1 1 0 1 1 1 1 1 0 1 1 1 1 0 0 0 0\n",
      " 0 1 1 1 0 0 0 1 1 1 1 0 0 0 0 0 1 1 1 0 1 0 1 1 1 1 0 1 0 1 0 0 1 0 1 1 0\n",
      " 1 1 0 0 1 0 1 1 0 1 0 1 1 0 1 1 1 0 1 1 1 0 0 1 0 1 1 0 1 1 1 1 1 1 1 1 0\n",
      " 0 0 0 1 0 1 1 1 1 0 0 1 0 0 1 0 0 0 0 1 1 0 0 1 0 1 1 1 1 1 0 1 0 1 0 1 1\n",
      " 0 0 0 1 1 1 0 0 0 0 0 0 0 1 0 1 1 1 1 1 0 1 0 0 1 1 1 1 0 1 0 1 1 0 1 1 1\n",
      " 1 1 1 1 0 1 0 1 1 1 0 1 1 0 1 1 1 1 1 1 0 0 0 0 0 0 1 1 0 1 1 0 1 0 0 1 1\n",
      " 1 1 0 0 1 1 0 1 1 1 0 1 0 0 1 1 1 1 1 1 0 0 1 1 1 0 1 0 1 0 0 1 1 1 0 0 0\n",
      " 0 1 0 1 1 0 1 1 1 1 1 0 1 1 1 1 1 1 1 1 1 1 0 0]\n"
     ]
    }
   ],
   "source": [
    "from sklearn import tree\n",
    "from sklearn.model_selection import train_test_split\n",
    "\n",
    "\n",
    "train_X, test_X, train_y, test_y = train_test_split(data_X, data_Y_cla, test_size = 0.2)\n",
    "\n",
    "decision_tree = tree.DecisionTreeClassifier(max_depth=512, max_features=512, min_samples_split=4, class_weight=\"balanced\")\n",
    "decision_tree.fit(train_X, train_y)\n",
    "\n",
    "test_y_pre = decision_tree.predict(test_X)\n",
    "print(test_y_pre)\n",
    "\n",
    "\n",
    "#print(test_y)"
   ]
  },
  {
   "cell_type": "code",
   "execution_count": 352,
   "metadata": {
    "collapsed": false,
    "scrolled": true
   },
   "outputs": [
    {
     "name": "stdout",
     "output_type": "stream",
     "text": [
      "Accuracy: 0.730286\n",
      "Sensitivity: 0.779751\n",
      "Specificity: 0.641026\n"
     ]
    }
   ],
   "source": [
    "TP, TN, P, N, FP, FN = [0 for i in range(6)]\n",
    "for i in range(len(test_y)):\n",
    "    if(test_y[i] == 0):\n",
    "        N += 1\n",
    "        if(test_y_pre[i] == 0):\n",
    "            TN += 1\n",
    "        elif(test_y_pre[i] == 1):\n",
    "            FN += 1\n",
    "    elif(test_y[i] == 1):\n",
    "        P += 1\n",
    "        if(test_y_pre[i] == 1):\n",
    "            TP += 1\n",
    "        elif(test_y_pre[i] == 0):\n",
    "            FP += 1\n",
    "\n",
    "            \n",
    "print \"Accuracy: %f\" % ((TP+TN)*1.0/(TP+TN+FP+FN))\n",
    "print \"Sensitivity: %f\" % (TP*1.0/P)\n",
    "print \"Specificity: %f\" % (TN*1.0/N)"
   ]
  },
  {
   "cell_type": "code",
   "execution_count": 353,
   "metadata": {
    "collapsed": false
   },
   "outputs": [
    {
     "name": "stdout",
     "output_type": "stream",
     "text": [
      "[0 1 1 1 1 1 1 1 0 0 1 1 1 1 0 0 1 1 1 1 1 0 1 0 1 1 0 1 1 1 1 1 0 1 0 0 1\n",
      " 0 1 0 1 0 1 0 1 0 0 0 1 1 1 1 0 1 0 1 1 1 1 1 0 1 1 1 0 0 0 1 0 1 1 1 1 1\n",
      " 1 0 0 1 0 1 1 0 1 1 0 1 0 1 1 1 1 0 0 1 0 1 1 1 1 1 0 0 1 1 0 1 0 1 0 1 0\n",
      " 1 1 1 0 1 1 1 0 1 1 1 1 1 1 1 1 1 1 1 0 1 1 0 1 1 1 1 1 0 1 1 1 1 1 0 1 0\n",
      " 1 1 1 1 1 1 0 0 1 1 0 1 0 1 0 1 1 1 1 1 1 1 1 1 0 1 1 0 1 1 1 1 0 1 1 1 0\n",
      " 1 1 1 0 0 1 0 0 0 0 1 0 1 0 1 1 0 1 1 1 0 1 0 1 1 0 1 1 1 0 0 0 1 1 0 1 0\n",
      " 1 1 1 1 1 1 0 1 0 0 0 1 0 0 1 0 1 1 0 1 0 1 1 0 1 0 1 0 1 0 1 0 0 0 1 1 1\n",
      " 1 1 1 1 1 1 1 0 1 0 0 1 1 1 0 1 0 0 1 1 0 0 0 1 1 1 1 1 1 1 1 1 0 0 1 1 1\n",
      " 1 0 1 1 0 1 1 1 1 0 1 1 1 0 0 1 1 1 0 0 1 1 1 0 0 1 0 1 0 0 0 1 1 1 1 0 1\n",
      " 1 0 1 1 0 1 0 1 0 1 0 0 1 0 0 0 1 1 1 1 0 1 1 0 0 0 0 0 1 0 1 0 1 0 1 0 1\n",
      " 1 1 1 0 0 1 1 1 0 1 1 1 1 1 0 1 1 1 1 1 1 1 1 0 0 1 0 0 1 1 0 1 1 1 1 1 0\n",
      " 0 0 1 0 1 0 1 0 1 1 0 1 1 1 1 1 1 1 1 0 1 1 1 1 1 1 1 1 1 0 1 0 1 0 0 1 1\n",
      " 1 1 1 0 1 1 0 1 1 1 1 0 1 1 1 0 1 1 1 1 1 1 1 0 1 1 1 1 0 0 1 1 1 1 0 0 1\n",
      " 1 1 1 0 1 1 1 1 1 0 1 0 0 0 1 1 0 1 1 0 0 0 0 1 1 1 1 0 0 1 1 1 1 1 1 0 1\n",
      " 0 1 0 1 1 1 0 1 1 1 1 1 1 0 1 1 1 0 1 1 1 1 1 0 0 1 1 1 1 1 0 1 0 0 1 0 0\n",
      " 0 0 1 1 1 1 1 1 1 1 0 1 1 1 0 0 1 1 1 0 1 0 1 1 1 1 0 1 0 0 1 0 1 1 1 0 1\n",
      " 1 1 1 1 1 1 1 1 1 1 1 1 0 1 1 1 1 1 1 0 1 1 0 1 1 1 1 1 0 1 1 0 0 1 1 0 1\n",
      " 0 1 0 1 0 1 1 0 1 0 1 0 0 0 0 0 1 1 1 0 1 0 1 1 1 1 1 1 1 1 0 0 1 0 1 1 1\n",
      " 1 1 1 0 0 0 1 1 0 1 0 1 1 0 1 1 1 0 1 1 1 1 0 1 0 1 1 0 1 1 1 1 1 1 1 1 0\n",
      " 1 0 1 1 0 1 1 1 1 0 0 1 0 0 1 1 0 0 0 1 1 0 0 1 0 1 1 1 1 1 0 1 0 1 0 1 1\n",
      " 1 1 1 1 1 1 1 1 0 1 0 0 1 1 0 0 1 0 1 0 1 1 0 0 1 0 1 1 1 0 1 1 1 0 1 1 1\n",
      " 1 1 1 1 1 1 0 1 1 1 1 1 1 1 1 1 1 1 1 0 0 0 0 0 0 0 1 1 1 1 1 0 1 0 0 1 1\n",
      " 1 1 0 1 1 1 0 1 1 1 1 1 0 0 1 1 1 1 1 1 1 0 1 1 0 0 1 0 1 0 0 1 1 1 0 0 0\n",
      " 1 1 0 1 1 0 1 1 1 1 1 0 1 1 1 1 1 0 0 0 1 1 0 0]\n"
     ]
    }
   ],
   "source": [
    "from sklearn.ensemble import RandomForestClassifier\n",
    "\n",
    "random_forest = RandomForestClassifier(max_depth=512, n_estimators=32, max_features=128, class_weight=\"balanced\", min_samples_split=8)\n",
    "random_forest.fit(train_X, train_y)\n",
    "\n",
    "test_y_pre = random_forest.predict(test_X)\n",
    "print(test_y_pre)\n"
   ]
  },
  {
   "cell_type": "code",
   "execution_count": 354,
   "metadata": {
    "collapsed": false
   },
   "outputs": [
    {
     "name": "stdout",
     "output_type": "stream",
     "text": [
      "Accuracy: 0.789714\n",
      "Sensitivity: 0.854352\n",
      "Specificity: 0.673077\n"
     ]
    }
   ],
   "source": [
    "TP, TN, P, N, FP, FN = [0 for i in range(6)]\n",
    "for i in range(len(test_y)):\n",
    "    if(test_y[i] == 0):\n",
    "        N += 1\n",
    "        if(test_y_pre[i] == 0):\n",
    "            TN += 1\n",
    "        elif(test_y_pre[i] == 1):\n",
    "            FN += 1\n",
    "    elif(test_y[i] == 1):\n",
    "        P += 1\n",
    "        if(test_y_pre[i] == 1):\n",
    "            TP += 1\n",
    "        elif(test_y_pre[i] == 0):\n",
    "            FP += 1\n",
    "\n",
    "            \n",
    "print \"Accuracy: %f\" % ((TP+TN)*1.0/(TP+TN+FP+FN))\n",
    "print \"Sensitivity: %f\" % (TP*1.0/P)\n",
    "print \"Specificity: %f\" % (TN*1.0/N)"
   ]
  },
  {
   "cell_type": "code",
   "execution_count": 355,
   "metadata": {
    "collapsed": false
   },
   "outputs": [
    {
     "name": "stdout",
     "output_type": "stream",
     "text": [
      "[0 1 1 1 1 0 1 0 0 0 0 1 1 1 0 0 1 1 1 1 0 0 1 0 1 1 0 1 1 0 1 1 0 1 0 0 1\n",
      " 0 1 0 1 0 1 1 1 1 0 0 0 1 0 1 0 0 0 0 1 0 1 1 0 1 0 1 0 0 0 0 0 1 0 1 1 1\n",
      " 1 1 0 1 0 1 1 0 0 1 0 1 0 1 1 1 1 0 0 1 0 1 1 0 1 1 0 0 1 1 0 1 0 1 0 1 1\n",
      " 1 1 1 1 1 0 1 0 1 1 0 1 1 1 1 1 1 1 1 0 1 0 0 1 1 1 1 0 0 1 1 1 1 0 0 1 0\n",
      " 1 1 1 1 0 1 0 0 1 1 1 1 0 1 1 1 1 1 1 1 1 1 1 1 0 1 1 0 0 1 1 1 0 0 1 0 0\n",
      " 1 1 1 0 0 1 0 0 0 1 1 0 0 0 1 1 1 1 1 1 0 1 1 1 0 0 1 1 1 0 0 0 1 1 0 0 0\n",
      " 1 0 1 1 1 1 0 1 0 0 0 1 0 0 0 1 1 1 0 1 0 1 1 0 1 0 1 0 1 0 1 0 0 0 1 1 1\n",
      " 1 1 1 1 1 1 1 0 1 0 0 1 1 0 0 0 0 0 0 1 0 0 0 0 1 1 1 1 0 1 1 1 0 0 1 0 0\n",
      " 1 0 1 1 0 1 1 0 1 0 1 1 1 0 0 1 1 1 0 0 1 1 1 0 0 0 0 1 0 0 0 1 1 1 1 0 1\n",
      " 1 1 1 1 0 1 0 1 0 1 0 0 1 0 0 0 1 1 1 1 0 0 1 0 0 0 0 0 0 0 1 0 1 0 1 0 1\n",
      " 1 0 0 1 0 0 1 1 0 1 1 1 1 1 0 1 1 1 1 1 1 1 0 0 0 0 0 0 0 1 0 1 0 1 1 1 0\n",
      " 0 0 1 0 0 0 1 0 1 1 0 1 1 1 0 0 1 0 1 0 1 1 1 1 0 0 1 1 1 0 1 0 1 0 0 1 0\n",
      " 1 1 1 0 1 0 0 1 1 0 1 0 0 0 1 1 1 1 1 1 0 1 0 0 1 1 1 1 0 0 1 0 1 1 1 0 1\n",
      " 1 0 1 1 1 1 1 1 1 0 1 1 1 1 0 1 1 1 1 0 0 1 0 1 1 1 0 0 0 1 1 1 1 1 1 0 1\n",
      " 0 0 0 1 1 1 0 1 1 1 0 1 1 1 1 1 1 0 0 1 1 1 1 0 0 1 1 1 1 1 0 1 0 0 0 0 0\n",
      " 0 0 1 1 1 0 1 1 1 1 1 0 1 0 0 0 1 0 0 0 0 0 1 0 1 1 0 1 0 0 1 0 1 1 1 1 1\n",
      " 1 1 1 1 1 1 0 1 1 1 1 1 0 1 1 1 1 1 1 0 1 1 0 1 1 1 1 1 0 1 1 0 0 1 1 0 1\n",
      " 0 1 1 1 0 1 1 0 1 0 1 0 0 0 0 0 1 1 1 0 1 0 1 1 0 1 1 1 0 1 0 0 0 0 1 1 1\n",
      " 1 1 1 0 0 0 1 1 1 1 0 1 1 0 1 1 1 0 1 1 1 1 0 1 0 1 1 0 1 1 0 1 1 1 1 1 0\n",
      " 0 0 0 1 0 1 1 1 1 0 0 1 0 0 1 1 0 0 0 1 1 0 0 1 1 1 1 1 0 1 0 0 1 1 0 0 1\n",
      " 1 1 1 1 1 1 0 0 1 1 0 0 1 1 0 0 1 1 1 0 1 0 0 0 1 0 1 1 0 0 1 1 1 0 1 1 1\n",
      " 1 1 1 0 1 1 0 1 1 1 1 1 0 0 1 1 1 1 1 0 0 1 0 0 0 0 1 1 1 1 1 0 1 1 1 1 1\n",
      " 1 1 0 0 1 0 1 1 1 1 0 1 0 0 1 1 1 1 0 1 1 0 0 1 0 0 1 0 1 0 0 1 1 1 0 0 0\n",
      " 0 1 0 1 1 1 1 1 0 0 1 0 1 1 1 1 1 0 0 1 1 1 0 0]\n"
     ]
    }
   ],
   "source": [
    "from sklearn import svm\n",
    "linear_svm = svm.LinearSVC(C=0.001, class_weight=\"balanced\")\n",
    "linear_svm.fit(train_X, train_y)\n",
    "test_y_pre = linear_svm.predict(test_X)\n",
    "print(test_y_pre)\n",
    "#print(test_y)"
   ]
  },
  {
   "cell_type": "code",
   "execution_count": 356,
   "metadata": {
    "collapsed": false
   },
   "outputs": [
    {
     "name": "stdout",
     "output_type": "stream",
     "text": [
      "Accuracy: 0.760000\n",
      "Sensitivity: 0.774423\n",
      "Specificity: 0.733974\n"
     ]
    }
   ],
   "source": [
    "TP, TN, P, N, FP, FN = [0 for i in range(6)]\n",
    "for i in range(len(test_y)):\n",
    "    if(test_y[i] == 0):\n",
    "        N += 1\n",
    "        if(test_y_pre[i] == 0):\n",
    "            TN += 1\n",
    "        elif(test_y_pre[i] == 1):\n",
    "            FN += 1\n",
    "    elif(test_y[i] == 1):\n",
    "        P += 1\n",
    "        if(test_y_pre[i] == 1):\n",
    "            TP += 1\n",
    "        elif(test_y_pre[i] == 0):\n",
    "            FP += 1\n",
    "\n",
    "            \n",
    "print \"Accuracy: %f\" % ((TP+TN)*1.0/(TP+TN+FP+FN))\n",
    "print \"Sensitivity: %f\" % (TP*1.0/P)\n",
    "print \"Specificity: %f\" % (TN*1.0/N)"
   ]
  },
  {
   "cell_type": "code",
   "execution_count": 357,
   "metadata": {
    "collapsed": false
   },
   "outputs": [
    {
     "name": "stdout",
     "output_type": "stream",
     "text": [
      "[0 1 1 1 1 0 1 1 0 0 0 1 1 1 0 0 1 1 1 1 0 0 1 0 1 1 0 1 1 1 1 1 0 1 0 1 1\n",
      " 0 1 0 1 0 1 1 1 1 0 0 1 1 0 1 0 0 0 0 1 0 0 1 0 1 0 1 0 0 0 1 0 1 1 1 1 1\n",
      " 1 1 0 1 0 1 1 0 0 1 0 1 0 1 1 1 1 0 0 1 0 1 1 0 1 1 0 0 1 1 0 1 0 1 0 1 1\n",
      " 1 1 1 1 1 0 1 0 1 1 1 1 1 1 1 1 1 1 1 0 1 0 0 1 1 1 1 1 0 1 1 1 1 0 0 1 0\n",
      " 1 1 1 1 1 1 0 0 1 1 1 1 0 1 1 1 1 1 1 1 1 1 1 1 0 1 1 0 1 0 1 1 0 0 1 0 0\n",
      " 1 1 1 0 0 1 0 0 0 1 1 0 1 0 1 1 1 1 1 1 0 1 1 1 0 0 1 1 1 0 0 0 1 1 0 0 0\n",
      " 1 1 1 1 1 1 0 1 0 0 0 1 0 0 0 0 1 1 0 1 0 1 1 0 1 0 1 0 1 0 1 0 0 0 1 1 1\n",
      " 1 1 0 1 1 1 1 0 1 0 0 1 1 0 0 0 0 0 0 1 0 0 0 0 1 1 1 0 1 1 1 1 0 0 1 1 0\n",
      " 1 0 1 1 0 1 1 0 1 0 1 1 1 0 0 1 1 1 0 0 1 1 1 0 0 1 0 1 0 0 1 1 1 1 1 0 1\n",
      " 1 0 1 1 0 1 0 1 0 1 0 0 1 0 0 0 1 1 0 1 0 0 1 0 0 0 0 0 0 0 1 0 1 0 1 0 1\n",
      " 0 0 0 1 0 0 1 1 0 1 1 1 1 1 0 1 1 1 1 1 1 0 1 0 0 0 0 0 0 1 0 1 0 1 1 1 0\n",
      " 0 0 1 0 0 0 1 0 1 1 0 1 1 1 0 1 1 0 1 0 1 0 1 1 0 0 1 0 1 0 1 0 1 0 0 1 0\n",
      " 1 1 1 0 1 0 0 1 0 0 1 0 0 0 1 0 1 1 1 0 0 1 0 0 1 1 1 1 0 0 1 1 1 1 0 0 1\n",
      " 1 0 1 1 1 1 1 0 1 0 1 1 0 0 0 1 0 1 1 0 0 1 0 1 1 1 0 0 0 1 1 1 1 1 1 0 1\n",
      " 0 0 0 1 1 1 0 1 1 1 1 1 1 0 1 1 1 0 1 1 1 1 1 0 0 1 1 1 1 1 0 1 0 0 0 0 0\n",
      " 0 0 1 1 0 1 1 1 1 1 1 0 1 1 1 0 1 0 1 0 1 0 1 0 1 1 0 1 0 0 1 0 1 1 1 1 1\n",
      " 1 1 1 1 1 1 0 1 1 1 1 1 0 1 1 1 1 1 1 0 1 1 0 1 1 1 1 1 0 1 1 0 0 1 1 0 1\n",
      " 0 1 1 1 0 0 1 0 1 0 1 0 0 0 0 0 1 1 1 0 1 0 1 1 0 1 1 1 0 1 0 0 1 0 1 1 1\n",
      " 1 1 1 0 1 0 1 1 1 1 0 1 1 0 1 1 1 0 1 1 1 1 0 1 0 1 1 0 1 1 1 1 1 1 1 1 0\n",
      " 0 0 0 1 0 1 1 1 1 0 0 1 0 0 1 1 0 0 0 1 1 0 0 1 1 1 1 1 0 0 0 0 0 1 0 0 1\n",
      " 1 1 1 1 1 1 0 1 1 0 0 0 1 1 1 0 1 1 1 0 1 0 0 0 1 0 1 1 0 0 1 1 1 0 1 1 1\n",
      " 1 1 1 0 1 1 0 1 1 1 1 1 0 0 1 1 1 1 1 0 0 1 0 0 0 0 1 1 1 1 1 0 1 1 0 1 1\n",
      " 1 1 1 0 1 0 0 1 0 1 0 1 0 0 1 1 1 1 0 1 1 0 0 1 0 0 1 0 1 0 0 1 1 1 0 1 0\n",
      " 1 1 0 1 1 0 1 1 0 0 1 0 1 1 1 1 1 1 0 1 1 1 0 0]\n"
     ]
    }
   ],
   "source": [
    "from sklearn import linear_model\n",
    "logistic_reg = linear_model.LogisticRegressionCV(class_weight=\"balanced\")\n",
    "logistic_reg.fit(train_X, train_y)\n",
    "test_y_pre = logistic_reg.predict(test_X)\n",
    "print(test_y_pre)\n"
   ]
  },
  {
   "cell_type": "code",
   "execution_count": 358,
   "metadata": {
    "collapsed": false
   },
   "outputs": [
    {
     "name": "stdout",
     "output_type": "stream",
     "text": [
      "Accuracy: 0.769143\n",
      "Sensitivity: 0.786856\n",
      "Specificity: 0.737179\n"
     ]
    }
   ],
   "source": [
    "TP, TN, P, N, FP, FN = [0 for i in range(6)]\n",
    "for i in range(len(test_y)):\n",
    "    if(test_y[i] == 0):\n",
    "        N += 1\n",
    "        if(test_y_pre[i] == 0):\n",
    "            TN += 1\n",
    "        elif(test_y_pre[i] == 1):\n",
    "            FN += 1\n",
    "    elif(test_y[i] == 1):\n",
    "        P += 1\n",
    "        if(test_y_pre[i] == 1):\n",
    "            TP += 1\n",
    "        elif(test_y_pre[i] == 0):\n",
    "            FP += 1\n",
    "\n",
    "            \n",
    "print \"Accuracy: %f\" % ((TP+TN)*1.0/(TP+TN+FP+FN))\n",
    "print \"Sensitivity: %f\" % (TP*1.0/P)\n",
    "print \"Specificity: %f\" % (TN*1.0/N)"
   ]
  },
  {
   "cell_type": "code",
   "execution_count": 359,
   "metadata": {
    "collapsed": false
   },
   "outputs": [
    {
     "name": "stdout",
     "output_type": "stream",
     "text": [
      "[0 1 1 1 1 1 1 0 0 0 1 1 1 1 0 0 1 1 1 1 1 0 1 0 1 1 1 1 1 1 1 1 0 1 0 0 1\n",
      " 0 1 0 1 0 1 0 1 0 0 0 1 1 1 1 0 1 0 1 1 1 1 1 0 1 1 1 0 0 0 1 0 1 1 1 1 1\n",
      " 1 1 0 1 0 1 1 0 1 1 0 1 0 1 1 1 1 0 0 1 0 1 1 1 1 1 0 0 1 1 0 1 0 1 1 1 0\n",
      " 1 0 1 1 1 1 1 0 1 1 1 1 1 1 1 1 1 1 1 0 1 1 0 1 1 1 1 0 0 1 1 1 1 0 0 1 1\n",
      " 1 1 1 1 1 1 0 0 1 1 0 1 0 1 1 1 1 1 1 1 1 1 1 1 0 1 1 0 0 0 1 1 1 1 1 0 0\n",
      " 1 1 1 0 0 1 1 0 0 0 1 0 1 0 1 1 0 1 1 1 0 1 1 1 1 0 1 1 1 1 0 0 1 1 0 1 0\n",
      " 1 1 1 0 1 1 1 1 0 0 0 1 1 0 1 1 1 1 0 1 0 1 1 0 1 0 1 0 1 0 1 0 0 0 1 1 1\n",
      " 1 1 1 1 1 1 1 0 1 0 0 1 1 1 0 0 0 0 1 1 0 1 0 1 1 0 1 1 1 1 1 1 0 0 1 1 0\n",
      " 1 1 1 1 0 1 1 1 1 0 1 1 0 0 0 1 1 1 1 0 1 1 1 1 0 0 0 1 0 0 0 1 1 1 1 1 1\n",
      " 1 0 1 1 0 1 0 1 0 1 0 0 1 1 0 0 1 1 1 1 0 1 1 1 0 0 0 0 1 0 1 0 1 0 1 0 1\n",
      " 1 1 0 1 0 1 1 1 0 1 1 1 1 1 0 1 0 1 1 1 1 1 1 0 0 1 0 0 1 1 1 1 1 1 1 1 0\n",
      " 0 0 1 0 0 0 1 1 1 1 0 1 1 1 1 1 1 1 1 0 1 1 1 0 1 1 1 1 1 1 1 0 1 0 0 1 1\n",
      " 0 1 1 0 1 1 0 1 1 0 1 0 1 1 1 0 1 1 1 1 1 1 1 0 1 1 1 1 0 0 1 1 1 1 1 0 1\n",
      " 1 0 1 0 1 1 1 1 1 0 1 1 1 0 1 1 0 0 1 0 0 1 0 1 1 1 1 0 0 1 1 1 1 1 1 0 1\n",
      " 0 0 0 1 1 1 1 1 1 1 0 1 1 1 1 1 1 1 1 1 1 1 1 0 0 0 1 1 1 1 0 1 0 0 1 0 0\n",
      " 0 0 1 0 1 1 1 1 1 1 1 1 1 1 1 0 1 0 1 0 0 0 1 1 1 1 0 1 0 0 1 0 1 1 1 1 1\n",
      " 1 1 1 1 1 1 1 1 1 1 1 1 0 1 1 1 1 1 1 0 1 1 1 1 1 0 0 1 0 1 1 0 0 0 1 0 1\n",
      " 0 1 1 1 0 1 1 0 1 0 1 0 0 0 0 0 1 1 1 1 1 0 1 1 0 1 1 1 0 1 1 0 1 0 1 1 1\n",
      " 1 0 1 0 0 0 1 1 0 1 0 1 1 0 1 1 1 0 1 1 1 1 0 1 0 1 1 0 1 1 0 1 1 1 1 1 0\n",
      " 1 0 1 1 0 1 1 0 1 0 0 1 1 1 1 1 0 0 0 1 1 0 0 1 1 1 1 1 1 1 0 1 1 1 0 0 1\n",
      " 1 1 1 1 1 1 0 1 0 1 0 0 1 1 1 0 1 0 1 0 1 0 1 0 1 0 1 1 0 0 1 1 1 0 1 1 1\n",
      " 1 1 1 0 0 1 0 1 1 1 1 1 0 1 1 1 1 1 1 0 0 1 0 0 0 0 1 1 1 1 1 0 1 1 1 1 1\n",
      " 1 1 0 1 1 1 1 1 1 1 1 1 1 0 1 1 1 1 1 1 0 0 1 1 1 0 1 0 1 0 0 1 1 1 0 0 0\n",
      " 1 1 0 1 1 1 1 1 1 1 1 0 1 1 1 1 1 0 1 1 1 1 0 0]\n"
     ]
    }
   ],
   "source": [
    "from sklearn import neighbors\n",
    "KNN = neighbors.KNeighborsClassifier(10, weights=\"distance\")\n",
    "KNN.fit(train_X, train_y)\n",
    "test_y_pre = KNN.predict(test_X)\n",
    "print(test_y_pre)\n"
   ]
  },
  {
   "cell_type": "code",
   "execution_count": 360,
   "metadata": {
    "collapsed": false
   },
   "outputs": [
    {
     "name": "stdout",
     "output_type": "stream",
     "text": [
      "Accuracy: 0.769143\n",
      "Sensitivity: 0.847247\n",
      "Specificity: 0.628205\n"
     ]
    }
   ],
   "source": [
    "TP, TN, P, N, FP, FN = [0 for i in range(6)]\n",
    "for i in range(len(test_y)):\n",
    "    if(test_y[i] == 0):\n",
    "        N += 1\n",
    "        if(test_y_pre[i] == 0):\n",
    "            TN += 1\n",
    "        elif(test_y_pre[i] == 1):\n",
    "            FN += 1\n",
    "    elif(test_y[i] == 1):\n",
    "        P += 1\n",
    "        if(test_y_pre[i] == 1):\n",
    "            TP += 1\n",
    "        elif(test_y_pre[i] == 0):\n",
    "            FP += 1\n",
    "\n",
    "            \n",
    "print \"Accuracy: %f\" % ((TP+TN)*1.0/(TP+TN+FP+FN))\n",
    "print \"Sensitivity: %f\" % (TP*1.0/P)\n",
    "print \"Specificity: %f\" % (TN*1.0/N)"
   ]
  },
  {
   "cell_type": "code",
   "execution_count": null,
   "metadata": {
    "collapsed": true
   },
   "outputs": [],
   "source": []
  }
 ],
 "metadata": {
  "kernelspec": {
   "display_name": "Python 2",
   "language": "python",
   "name": "python2"
  },
  "language_info": {
   "codemirror_mode": {
    "name": "ipython",
    "version": 2
   },
   "file_extension": ".py",
   "mimetype": "text/x-python",
   "name": "python",
   "nbconvert_exporter": "python",
   "pygments_lexer": "ipython2",
   "version": "2.7.9"
  }
 },
 "nbformat": 4,
 "nbformat_minor": 0
}
