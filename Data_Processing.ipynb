{
 "cells": [
  {
   "cell_type": "code",
   "execution_count": 1,
   "metadata": {
    "collapsed": false
   },
   "outputs": [],
   "source": [
    "def remove_ambiguous(ori_list, threshold):\n",
    "    #remove ambiguous pairs\n",
    "    amb_list = []\n",
    "    new_list = []\n",
    "    ori_len = len(ori_list)\n",
    "    cnt = 0\n",
    "    for i in range(ori_len):\n",
    "        for j in range(i+1, ori_len):\n",
    "            if(ori_list[i][2] == ori_list[j][2]):\n",
    "                if (float(ori_list[i][5])-threshold)*(float(ori_list[j][5])-threshold) < 0:\n",
    "                    #print \"DELETE compound %d %s %s and compound %d  %s %s\" % (i, ori_list[i][4], ori_list[i][5], j, ori_list[j][4], ori_list[j][5])\n",
    "                    #print ori_list[i][2]+\"\\n\"+ori_list[j][2]+\"\\n\"\n",
    "                    if ori_list[i] not in amb_list:\n",
    "                        amb_list.append(ori_list[i])\n",
    "                    if ori_list[j] not in amb_list:\n",
    "                        amb_list.append(ori_list[j])\n",
    "                    cnt += 1\n",
    "    print \"# of ambiguous pairs: %d, %d compounds\" % (cnt, len(amb_list))\n",
    "\n",
    "    #remove ambiguous class\n",
    "    cnt = 0\n",
    "    for i in range(ori_len):\n",
    "        if ((ori_list[i][4] == \"<\" or ori_list[i][4] == \"<=\") and (float(ori_list[i][5]) > threshold)) or \\\n",
    "        ((ori_list[i][4] == \">\" or ori_list[i][4] == \">=\") and (float(ori_list[i][5]) < threshold)):\n",
    "            #print \"compound\", i, ori_list[i][4], ori_list[i][5], \"Cannot Categorize\"\n",
    "            if ori_list[i] not in amb_list:\n",
    "                amb_list.append(ori_list[i])\n",
    "            cnt += 1\n",
    "    print \"# of ambiguous class: %d compounds\" % cnt\n",
    "    \n",
    "    \n",
    "    for i in ori_list:\n",
    "        if i not in amb_list:\n",
    "            new_list.append(i)\n",
    "            \n",
    "    print \"new list length %d original list length %d\" % (len(new_list), len(ori_list))\n",
    "    \n",
    "    return new_list\n",
    "    \n",
    "    \n",
    "            "
   ]
  },
  {
   "cell_type": "code",
   "execution_count": 2,
   "metadata": {
    "collapsed": true
   },
   "outputs": [],
   "source": [
    "def remove_duplicate(ori_list):\n",
    "    del_list = []\n",
    "    new_list = []\n",
    "    ori_len = len(ori_list)\n",
    "    cnt = 0\n",
    "    for i in range(ori_len):\n",
    "        for j in range(i+1, ori_len):\n",
    "            if(ori_list[i][2] == ori_list[j][2]):\n",
    "                if ori_list[i] not in del_list:\n",
    "                    del_list.append(ori_list[i])\n",
    "                    cnt+=1\n",
    "                    break\n",
    "    \n",
    "    print \"# of duplicate compounds removed: %d\" % cnt\n",
    "    \n",
    "                \n",
    "                \n",
    "    for i in ori_list:\n",
    "        if i not in del_list:\n",
    "            new_list.append(i)\n",
    "            \n",
    "    for i in range(len(new_list)):\n",
    "        for j in range(i+1, len(new_list)):\n",
    "            if(new_list[i][2] == new_list[j][2]):\n",
    "                print \"error\"\n",
    "                \n",
    "    print \"new list length %d original list length %d\" % (len(new_list), len(ori_list))\n",
    "                \n",
    "    return new_list"
   ]
  },
  {
   "cell_type": "code",
   "execution_count": 3,
   "metadata": {
    "collapsed": false
   },
   "outputs": [],
   "source": [
    "def stable(relation, half_life, threshold):\n",
    "    if ((relation == \"=\" or relation == \">\" or relation == \">=\") and half_life > threshold) or ((relation == \">\" or relation == \">=\") and half_life == threshold):\n",
    "        return 1\n",
    "    else:\n",
    "        return 0\n",
    "    \n",
    "def save_training_set(ori_list, threshold):\n",
    "    num_stable = 0\n",
    "    num_unstable = 0\n",
    "    for i in ori_list:\n",
    "        if(stable(i[4], float(i[5]), threshold)):\n",
    "            num_stable += 1\n",
    "        else:\n",
    "            num_unstable += 1\n",
    "        i.append(stable(i[4], float(i[5]), threshold))\n",
    "        \n",
    "    print \"# stable compounds: %d\" % num_stable\n",
    "    print \"# unstable compounds: %d\" % num_unstable\n",
    "    print \"stable: %f percent\" % (num_stable*1.0/len(ori_list)*100)\n",
    "    return ori_list\n",
    "    "
   ]
  },
  {
   "cell_type": "code",
   "execution_count": 4,
   "metadata": {
    "collapsed": false
   },
   "outputs": [],
   "source": [
    "#Open Raw File\n",
    "import csv\n",
    "\n",
    "with open('raw_data/ALL_HalfLife.csv', 'rb') as fx:\n",
    "    reader = csv.reader(fx)\n",
    "    raw_list = list(reader)\n",
    "    \n",
    "def load_data(some_raw_list):\n",
    "    data_list = [[i[0], i[28], i[10], i[12], i[13], i[14], i[15], i[6], i[7], i[8]] for i in some_raw_list[1:]]\n",
    "    return data_list\n",
    "\n"
   ]
  },
  {
   "cell_type": "code",
   "execution_count": 5,
   "metadata": {
    "collapsed": false
   },
   "outputs": [
    {
     "name": "stdout",
     "output_type": "stream",
     "text": [
      "4597\n",
      "CMPD_CHEMBLID\n",
      "['CHEMBL2086788', 'CHEMBL2089523', '[2H][C@@H](CC(C)C)[C@H]([2H])[C@](C)(O)[C@H]1CC[C@H]2[C@@H]3C[C@H](O)[C@H]4C[C@@H](O)CC[C@]4(C)[C@H]3CC[C@]12C', 'T1/2', '>', '2', 'hr', '420.67', '5.24', '60.69']\n"
     ]
    }
   ],
   "source": [
    "list_head = ['CMPD_CHEMBLID', 'ASSAY_CHEMBLID', 'CANONICAL_SMILES', 'STANDARD_TYPE', 'RELATION', 'STANDARD_VALUE', 'STANDARD_UNITS', 'MOLWEIGHT', 'ALOGP', 'PSA', 'STABLE']\n",
    "now_list = load_data(raw_list)\n",
    "print len(now_list)\n",
    "print list_head[0]\n",
    "print now_list[0]"
   ]
  },
  {
   "cell_type": "code",
   "execution_count": 6,
   "metadata": {
    "collapsed": false
   },
   "outputs": [
    {
     "name": "stdout",
     "output_type": "stream",
     "text": [
      "# of ambiguous pairs: 26, 43 compounds\n",
      "# of ambiguous class: 9 compounds\n",
      "new list length 4545 original list length 4597\n"
     ]
    }
   ],
   "source": [
    "now_list = remove_ambiguous(now_list, 0.5)"
   ]
  },
  {
   "cell_type": "code",
   "execution_count": 7,
   "metadata": {
    "collapsed": false
   },
   "outputs": [
    {
     "name": "stdout",
     "output_type": "stream",
     "text": [
      "# of duplicate compounds removed: 169\n",
      "new list length 4362 original list length 4545\n"
     ]
    }
   ],
   "source": [
    "now_list = remove_duplicate(now_list)"
   ]
  },
  {
   "cell_type": "code",
   "execution_count": 8,
   "metadata": {
    "collapsed": false
   },
   "outputs": [
    {
     "name": "stdout",
     "output_type": "stream",
     "text": [
      "# stable compounds: 2801\n",
      "# unstable compounds: 1561\n",
      "stable: 64.213663 percent\n",
      "[['CHEMBL2086788', 'CHEMBL2089523', '[2H][C@@H](CC(C)C)[C@H]([2H])[C@](C)(O)[C@H]1CC[C@H]2[C@@H]3C[C@H](O)[C@H]4C[C@@H](O)CC[C@]4(C)[C@H]3CC[C@]12C', 'T1/2', '>', '2', 'hr', '420.67', '5.24', '60.69', 1], ['CHEMBL2086787', 'CHEMBL2089522', '[2H][C@H](CC(C)C)[C@@H]([2H])[C@](C)(O)[C@H]1CC[C@H]2[C@@H]3C[C@H](O)[C@H]4C[C@@H](O)CC[C@]4(C)[C@H]3CC[C@]12C', 'T1/2', '=', '0.08333', 'hr', '420.67', '5.24', '60.69', 0], ['CHEMBL201556', 'CHEMBL859628', '[2H]C([2H])([2H])N(C[C@H]1CCCC[C@]1(O)c2cccc(O)c2)C([2H])([2H])[2H]', 'T1/2', '=', '12.45', 'hr', '249.35', '2.48', '43.7', 1], ['CHEMBL438627', 'CHEMBL859628', '[2H]C([2H])([2H])N(C[C@H]1CCCC[C@]1(O)c2cccc(OC)c2)C([2H])([2H])[2H]', 'T1/2', '=', '9.117', 'hr', '263.38', '2.7', '32.7', 1], ['CHEMBL2386595', 'CHEMBL2388043', '[2H]C([2H])([2H])N1CCN(Cc2ccc(cc2)C(=O)Nc3ccc(C)c(Nc4nccc(n4)c5cccnc5)c3)CC1', 'T1/2', '=', '0.4333', 'hr', '493.6', '4.22', '86.28', 0], ['CHEMBL379021', 'CHEMBL859628', '[2H]C([2H])([2H])Oc1cccc(c1)[C@@]2(O)CCCC[C@@H]2CN(C([2H])([2H])[2H])C([2H])([2H])[2H]', 'T1/2', '=', '120.17', 'hr', '263.38', '2.7', '32.7', 1], ['CHEMBL201531', 'CHEMBL859628', '[2H]C([2H])([2H])Oc1cccc(c1)[C@@]2(O)CCCC[C@@H]2CN(C)C', 'T1/2', '=', '12.4', 'hr', '263.38', '2.7', '32.7', 1], ['CHEMBL2086785', 'CHEMBL2089523', '[2H]C([2H])(CC(C)C)C([2H])([2H])[C@](C)(O)[C@H]1CC[C@H]2[C@@H]3C[C@H](O)[C@H]4C[C@@H](O)CC[C@]4(C)[C@H]3CC[C@]12C', 'T1/2', '>', '2', 'hr', '420.67', '5.24', '60.69', 1], ['CHEMBL3357436', 'CHEMBL3379530', '[Br-].CCOc1cc(NC(=O)C2(CCC2)NC(=O)c3ccc4c(C5CCCC5)c(c6ncc(Cl)cn6)n(C)c4c3)ccc1\\\\C=C\\\\C(=O)OCC[N+](C)(C)C', 'T1/2', '>', '5', 'hr', '728.3', '5.16', '124.44', 1], ['CHEMBL2324280', 'CHEMBL2330994', '[O-][N+](=O)c1cc(C(=O)Nc2ccc(F)c(c2)c3nc4ccccc4s3)c(Cl)cc1N5CCNCC5', 'T1/2', '>', '4', 'hr', '511.96', '4.97', '131.31', 1]]\n"
     ]
    }
   ],
   "source": [
    "now_list = save_training_set(now_list, 0.5)\n",
    "print now_list[0:10]"
   ]
  },
  {
   "cell_type": "code",
   "execution_count": 9,
   "metadata": {
    "collapsed": false
   },
   "outputs": [],
   "source": [
    "#save file\n",
    "with open(\"training_data_halflife.csv\", 'w+') as savefile:\n",
    "    wr = csv.writer(savefile, quoting=csv.QUOTE_ALL)\n",
    "    wr.writerow(list_head)\n",
    "    wr.writerows(now_list)\n",
    "        "
   ]
  },
  {
   "cell_type": "code",
   "execution_count": 10,
   "metadata": {
    "collapsed": false
   },
   "outputs": [
    {
     "name": "stdout",
     "output_type": "stream",
     "text": [
      "4362\n"
     ]
    }
   ],
   "source": [
    "savefile = open(\"half_life_training_set.smi\", \"w+\")\n",
    "cnt = 0\n",
    "for i in now_list:\n",
    "        savefile.write(i[2]+\"\\n\")\n",
    "        cnt+=1\n",
    "\n",
    "print cnt"
   ]
  },
  {
   "cell_type": "code",
   "execution_count": 11,
   "metadata": {
    "collapsed": false
   },
   "outputs": [
    {
     "data": {
      "image/png": "[encoded data removed]",
      "text/plain": [
       "<matplotlib.figure.Figure at 0x105416b50>"
      ]
     },
     "metadata": {},
     "output_type": "display_data"
    }
   ],
   "source": [
    "from matplotlib import pyplot as plt \n",
    "%matplotlib inline\n",
    "\n",
    "import numpy as np \n",
    "bang = [i*0.1 for i in range(50)]\n",
    "hls = np.array([float(i[5]) for i in now_list])\n",
    "np.histogram(hls,bins = bang) \n",
    "hist,bins = np.histogram(hls,bins=bang)\n",
    "\n",
    "plt.hist(hls, bins=bang) \n",
    "plt.title(\"raw half life histogram\") \n",
    "plt.show()\n"
   ]
  },
  {
   "cell_type": "code",
   "execution_count": null,
   "metadata": {
    "collapsed": false
   },
   "outputs": [],
   "source": []
  },
  {
   "cell_type": "code",
   "execution_count": null,
   "metadata": {
    "collapsed": true
   },
   "outputs": [],
   "source": []
  },
  {
   "cell_type": "code",
   "execution_count": null,
   "metadata": {
    "collapsed": false
   },
   "outputs": [],
   "source": []
  },
  {
   "cell_type": "code",
   "execution_count": null,
   "metadata": {
    "collapsed": true
   },
   "outputs": [],
   "source": []
  },
  {
   "cell_type": "code",
   "execution_count": null,
   "metadata": {
    "collapsed": true
   },
   "outputs": [],
   "source": []
  }
 ],
 "metadata": {
  "kernelspec": {
   "display_name": "Python 2",
   "language": "python",
   "name": "python2"
  },
  "language_info": {
   "codemirror_mode": {
    "name": "ipython",
    "version": 2
   },
   "file_extension": ".py",
   "mimetype": "text/x-python",
   "name": "python",
   "nbconvert_exporter": "python",
   "pygments_lexer": "ipython2",
   "version": "2.7.9"
  }
 },
 "nbformat": 4,
 "nbformat_minor": 0
}
